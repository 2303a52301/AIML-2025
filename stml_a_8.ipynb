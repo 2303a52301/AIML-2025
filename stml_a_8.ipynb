{
  "nbformat": 4,
  "nbformat_minor": 0,
  "metadata": {
    "colab": {
      "provenance": [],
      "authorship_tag": "ABX9TyOwae5pY9MRMuyYbFYLWrX8",
      "include_colab_link": true
    },
    "kernelspec": {
      "name": "python3",
      "display_name": "Python 3"
    },
    "language_info": {
      "name": "python"
    }
  },
  "cells": [
    {
      "cell_type": "markdown",
      "metadata": {
        "id": "view-in-github",
        "colab_type": "text"
      },
      "source": [
        "<a href=\"https://colab.research.google.com/github/2303a52301/AIML-2025/blob/main/stml_a_8.ipynb\" target=\"_parent\"><img src=\"https://colab.research.google.com/assets/colab-badge.svg\" alt=\"Open In Colab\"/></a>"
      ]
    },
    {
      "cell_type": "code",
      "execution_count": null,
      "metadata": {
        "colab": {
          "base_uri": "https://localhost:8080/",
          "height": 797
        },
        "id": "ILlMeE4wA1l5",
        "outputId": "cb2789fb-237e-4d8f-bad6-dcc2688f468c"
      },
      "outputs": [
        {
          "output_type": "stream",
          "name": "stdout",
          "text": [
            "   X1  X2  X3  X4   X5  Pass/Fail\n",
            "0  10  90  85   1  100          1\n",
            "1   5  60  70   0   70          0\n",
            "2  15  95  90   1  100          1\n",
            "3   2  30  50   0   40          0\n",
            "4  12  85  88   1   90          1\n",
            "              X1         X2         X3         X4          X5  Pass/Fail\n",
            "count  10.000000  10.000000  10.000000  10.000000   10.000000  10.000000\n",
            "mean    8.600000  73.000000  73.600000   0.500000   78.500000   0.500000\n",
            "std     4.526465  21.390548  15.629033   0.527046   19.300259   0.527046\n",
            "min     2.000000  30.000000  50.000000   0.000000   40.000000   0.000000\n",
            "25%     5.250000  61.250000  61.250000   0.000000   70.000000   0.000000\n",
            "50%     9.000000  80.000000  75.000000   0.500000   80.000000   0.500000\n",
            "75%    11.750000  89.500000  87.250000   1.000000   93.750000   1.000000\n",
            "max    15.000000  95.000000  93.000000   1.000000  100.000000   1.000000\n",
            "Pass/Fail\n",
            "1    5\n",
            "0    5\n",
            "Name: count, dtype: int64\n"
          ]
        },
        {
          "output_type": "display_data",
          "data": {
            "text/plain": [
              "<Figure size 640x480 with 1 Axes>"
            ],
            "image/png": "[encoded data removed]"
          },
          "metadata": {}
        }
      ],
      "source": [
        "import pandas as pd\n",
        "import matplotlib.pyplot as plt\n",
        "data = {\n",
        "    'X1': [10, 5, 15, 2, 12, 8, 14, 3, 6, 11],\n",
        "    'X2': [90, 60, 95, 30, 85, 75, 92, 50, 65, 88],\n",
        "    'X3': [85, 70, 90, 50, 88, 65, 93, 55, 60, 80],\n",
        "    'X4': [1, 0, 1, 0, 1, 0, 1, 0, 0, 1],\n",
        "    'X5': [100, 70, 100, 40, 90, 70, 95, 60, 75, 85],\n",
        "    'Pass/Fail': [1, 0, 1, 0, 1, 0, 1, 0, 0, 1]\n",
        "}\n",
        "df = pd.DataFrame(data)\n",
        "print(df.head())\n",
        "print(df.describe())\n",
        "print(df['Pass/Fail'].value_counts())\n",
        "df['Pass/Fail'].value_counts().plot(kind='bar')\n",
        "plt.title('Distribution of Pass/Fail Labels')\n",
        "plt.xlabel('Label')\n",
        "plt.ylabel('Count')\n",
        "plt.show()"
      ]
    },
    {
      "cell_type": "code",
      "source": [
        "import pandas as pd\n",
        "from sklearn.model_selection import train_test_split\n",
        "from sklearn.preprocessing import LabelEncoder\n",
        "from sklearn.linear_model import LogisticRegression\n",
        "from sklearn.metrics import accuracy_score\n",
        "\n",
        "file_path = '/content/diabetes_data_upload.csv'\n",
        "data = pd.read_csv(file_path)\n",
        "\n",
        "label_encoder = LabelEncoder()\n",
        "encoded_data = data.apply(label_encoder.fit_transform)\n",
        "\n",
        "X = encoded_data.drop(columns=['class'])\n",
        "y = encoded_data['class']\n",
        "\n",
        "X_train, X_test, y_train, y_test = train_test_split(X, y, test_size=0.3, random_state=42)\n",
        "\n",
        "model = LogisticRegression(max_iter=1000)\n",
        "model.fit(X_train, y_train)\n",
        "\n",
        "y_pred = model.predict(X_test)\n",
        "\n",
        "accuracy = accuracy_score(y_test, y_pred)\n",
        "\n",
        "print(f\"Accuracy: {accuracy}\")\n"
      ],
      "metadata": {
        "colab": {
          "base_uri": "https://localhost:8080/"
        },
        "id": "4gSIwV_AA8LG",
        "outputId": "9b7dc91d-4a4b-4dab-9439-5d65957e0408"
      },
      "execution_count": null,
      "outputs": [
        {
          "output_type": "stream",
          "name": "stdout",
          "text": [
            "Accuracy: 0.9358974358974359\n"
          ]
        }
      ]
    }
  ]
}