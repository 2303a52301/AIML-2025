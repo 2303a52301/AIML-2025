{
  "nbformat": 4,
  "nbformat_minor": 0,
  "metadata": {
    "colab": {
      "provenance": [],
      "include_colab_link": true
    },
    "kernelspec": {
      "name": "python3",
      "display_name": "Python 3"
    },
    "language_info": {
      "name": "python"
    }
  },
  "cells": [
    {
      "cell_type": "markdown",
      "metadata": {
        "id": "view-in-github",
        "colab_type": "text"
      },
      "source": [
        "<a href=\"https://colab.research.google.com/github/2303a52301/AIML-2025/blob/main/STML_ASS_5.ipynb\" target=\"_parent\"><img src=\"https://colab.research.google.com/assets/colab-badge.svg\" alt=\"Open In Colab\"/></a>"
      ]
    },
    {
      "cell_type": "code",
      "execution_count": null,
      "metadata": {
        "id": "FrqXKmJCBAo3"
      },
      "outputs": [],
      "source": [
        "import pandas as pd\n",
        "import matplotlib.pyplot as plt\n",
        "from sklearn.preprocessing import MinMaxScaler\n",
        "from google.colab import drive"
      ]
    },
    {
      "cell_type": "code",
      "source": [
        "data = pd.read_csv('/content/Salary_Data.csv')\n",
        "X = data[['YearsExperience']]\n",
        "y = data['Salary']\n",
        "print(data.head())\n",
        "print(X.head())\n",
        "print(\"\\nTarget:\\n\", y.head())"
      ],
      "metadata": {
        "colab": {
          "base_uri": "https://localhost:8080/"
        },
        "id": "N1CD-jINBwp0",
        "outputId": "d78e4de1-398c-4a0c-df25-bea2569b2266"
      },
      "execution_count": null,
      "outputs": [
        {
          "output_type": "stream",
          "name": "stdout",
          "text": [
            "   YearsExperience   Salary\n",
            "0              1.1  39343.0\n",
            "1              1.3  46205.0\n",
            "2              1.5  37731.0\n",
            "3              2.0  43525.0\n",
            "4              2.2  39891.0\n",
            "   YearsExperience\n",
            "0              1.1\n",
            "1              1.3\n",
            "2              1.5\n",
            "3              2.0\n",
            "4              2.2\n",
            "\n",
            "Target:\n",
            " 0    39343.0\n",
            "1    46205.0\n",
            "2    37731.0\n",
            "3    43525.0\n",
            "4    39891.0\n",
            "Name: Salary, dtype: float64\n"
          ]
        }
      ]
    },
    {
      "cell_type": "code",
      "source": [
        "plt.scatter(X, y, color='red', alpha=1)\n",
        "plt.xlabel('YearsExperience')\n",
        "plt.ylabel('Salary')\n",
        "plt.title('YearsExperience vs Salary')\n",
        "plt.show()"
      ],
      "metadata": {
        "colab": {
          "base_uri": "https://localhost:8080/",
          "height": 472
        },
        "id": "yjironZqCFMt",
        "outputId": "23b330d9-27ed-4935-edfc-86f7fe89b044"
      },
      "execution_count": null,
      "outputs": [
        {
          "output_type": "display_data",
          "data": {
            "text/plain": [
              "<Figure size 640x480 with 1 Axes>"
            ],
            "image/png": "[encoded data removed]"
          },
          "metadata": {}
        }
      ]
    },
    {
      "cell_type": "code",
      "source": [
        "scaler = MinMaxScaler()\n",
        "X_normalized = scaler.fit_transform(X)\n",
        "normalized_features_df = pd.DataFrame(X_normalized, columns=['YearsExperience'])\n",
        "print(\"\\nNormalized Features:\\n\", normalized_features_df.head())\n"
      ],
      "metadata": {
        "colab": {
          "base_uri": "https://localhost:8080/"
        },
        "id": "K5ptBVNdCQx4",
        "outputId": "f26de367-8060-47ad-9dca-bdba7ead5d3a"
      },
      "execution_count": null,
      "outputs": [
        {
          "output_type": "stream",
          "name": "stdout",
          "text": [
            "\n",
            "Normalized Features:\n",
            "    YearsExperience\n",
            "0         0.000000\n",
            "1         0.021277\n",
            "2         0.042553\n",
            "3         0.095745\n",
            "4         0.117021\n"
          ]
        }
      ]
    },
    {
      "cell_type": "markdown",
      "source": [
        "**2ND Question**"
      ],
      "metadata": {
        "id": "0uLQF036CbJ2"
      }
    },
    {
      "cell_type": "code",
      "source": [
        "import pandas as pd\n",
        "import matplotlib.pyplot as plt\n",
        "from sklearn.preprocessing import MinMaxScaler\n",
        "from google.colab import drive"
      ],
      "metadata": {
        "id": "yBP9sDKrCi0I"
      },
      "execution_count": null,
      "outputs": []
    },
    {
      "cell_type": "code",
      "source": [
        "data = pd.read_csv('/content/diabetes_data_upload.csv')\n",
        "X = data.drop('class', axis=1)\n",
        "y = data['class']\n",
        "print(data.head())\n",
        "print(X.head())\n",
        "print(\"\\nTarget:\\n\", y.head())"
      ],
      "metadata": {
        "colab": {
          "base_uri": "https://localhost:8080/"
        },
        "id": "KJ4rMIY7DA-x",
        "outputId": "ef4b22ee-940e-4ac0-c0e5-1905c9b6133d"
      },
      "execution_count": null,
      "outputs": [
        {
          "output_type": "stream",
          "name": "stdout",
          "text": [
            "   Age Gender Polyuria Polydipsia sudden weight loss weakness Polyphagia  \\\n",
            "0   40   Male       No        Yes                 No      Yes         No   \n",
            "1   58   Male       No         No                 No      Yes         No   \n",
            "2   41   Male      Yes         No                 No      Yes        Yes   \n",
            "3   45   Male       No         No                Yes      Yes        Yes   \n",
            "4   60   Male      Yes        Yes                Yes      Yes        Yes   \n",
            "\n",
            "  Genital thrush visual blurring Itching Irritability delayed healing  \\\n",
            "0             No              No     Yes           No             Yes   \n",
            "1             No             Yes      No           No              No   \n",
            "2             No              No     Yes           No             Yes   \n",
            "3            Yes              No     Yes           No             Yes   \n",
            "4             No             Yes     Yes          Yes             Yes   \n",
            "\n",
            "  partial paresis muscle stiffness Alopecia Obesity     class  \n",
            "0              No              Yes      Yes     Yes  Positive  \n",
            "1             Yes               No      Yes      No  Positive  \n",
            "2              No              Yes      Yes      No  Positive  \n",
            "3              No               No       No      No  Positive  \n",
            "4             Yes              Yes      Yes     Yes  Positive  \n",
            "   Age Gender Polyuria Polydipsia sudden weight loss weakness Polyphagia  \\\n",
            "0   40   Male       No        Yes                 No      Yes         No   \n",
            "1   58   Male       No         No                 No      Yes         No   \n",
            "2   41   Male      Yes         No                 No      Yes        Yes   \n",
            "3   45   Male       No         No                Yes      Yes        Yes   \n",
            "4   60   Male      Yes        Yes                Yes      Yes        Yes   \n",
            "\n",
            "  Genital thrush visual blurring Itching Irritability delayed healing  \\\n",
            "0             No              No     Yes           No             Yes   \n",
            "1             No             Yes      No           No              No   \n",
            "2             No              No     Yes           No             Yes   \n",
            "3            Yes              No     Yes           No             Yes   \n",
            "4             No             Yes     Yes          Yes             Yes   \n",
            "\n",
            "  partial paresis muscle stiffness Alopecia Obesity  \n",
            "0              No              Yes      Yes     Yes  \n",
            "1             Yes               No      Yes      No  \n",
            "2              No              Yes      Yes      No  \n",
            "3              No               No       No      No  \n",
            "4             Yes              Yes      Yes     Yes  \n",
            "\n",
            "Target:\n",
            " 0    Positive\n",
            "1    Positive\n",
            "2    Positive\n",
            "3    Positive\n",
            "4    Positive\n",
            "Name: class, dtype: object\n"
          ]
        }
      ]
    },
    {
      "cell_type": "code",
      "source": [
        "X_encoded = pd.get_dummies(X)\n",
        "plt.scatter(X_encoded.iloc[:, 0], y, color='red')\n",
        "plt.xlabel('First Feature')\n",
        "plt.ylabel('Class (Diabetes Risk)')\n",
        "plt.title('Feature vs Class')\n",
        "plt.show()"
      ],
      "metadata": {
        "colab": {
          "base_uri": "https://localhost:8080/",
          "height": 472
        },
        "id": "B9yNqngRDOkB",
        "outputId": "a95d9717-7435-45de-95f9-0ae2693eb5a5"
      },
      "execution_count": null,
      "outputs": [
        {
          "output_type": "display_data",
          "data": {
            "text/plain": [
              "<Figure size 640x480 with 1 Axes>"
            ],
            "image/png": "[encoded data removed]"
          },
          "metadata": {}
        }
      ]
    },
    {
      "cell_type": "code",
      "source": [
        "scaler = MinMaxScaler()\n",
        "X_normalized = scaler.fit_transform(X_encoded)\n",
        "print(\"Normalized features:\\n\", X_normalized)"
      ],
      "metadata": {
        "colab": {
          "base_uri": "https://localhost:8080/"
        },
        "id": "sCd1G-IXDZj3",
        "outputId": "c0cb246f-7bdd-4a92-bfed-1012b2940af8"
      },
      "execution_count": null,
      "outputs": [
        {
          "output_type": "stream",
          "name": "stdout",
          "text": [
            "Normalized features:\n",
            " [[0.32432432 0.         1.         ... 1.         0.         1.        ]\n",
            " [0.56756757 0.         1.         ... 1.         1.         0.        ]\n",
            " [0.33783784 0.         1.         ... 1.         1.         0.        ]\n",
            " ...\n",
            " [0.56756757 1.         0.         ... 0.         0.         1.        ]\n",
            " [0.21621622 1.         0.         ... 1.         1.         0.        ]\n",
            " [0.35135135 0.         1.         ... 0.         1.         0.        ]]\n"
          ]
        }
      ]
    }
  ]
}